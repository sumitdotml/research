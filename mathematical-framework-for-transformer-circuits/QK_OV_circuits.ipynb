{
 "cells": [
  {
   "cell_type": "code",
   "execution_count": 135,
   "id": "2d2fc9ec",
   "metadata": {},
   "outputs": [],
   "source": [
    "from torch import Tensor, manual_seed, randn, transpose, softmax"
   ]
  },
  {
   "cell_type": "code",
   "execution_count": 150,
   "id": "7867388a",
   "metadata": {},
   "outputs": [],
   "source": [
    "batch = 1\n",
    "seqlen = 3\n",
    "d_model = 32\n",
    "d_head = 8\n",
    "assert d_model % d_head == 0\n",
    "heads = d_model // d_head"
   ]
  },
  {
   "cell_type": "code",
   "execution_count": 137,
   "id": "73bdacde",
   "metadata": {},
   "outputs": [
    {
     "data": {
      "text/plain": [
       "(torch.Size([1, 3, 32]),\n",
       " tensor([[[ 1.9269,  1.4873,  0.9007, -2.1055,  0.6784, -1.2345, -0.0431,\n",
       "           -1.6047, -0.7521,  1.6487, -0.3925, -1.4036, -0.7279, -0.5594,\n",
       "           -0.7688,  0.7624,  1.6423, -0.1596, -0.4974,  0.4396, -0.7581,\n",
       "            1.0783,  0.8008,  1.6806,  1.2791,  1.2964,  0.6105,  1.3347,\n",
       "           -0.2316,  0.0418, -0.2516,  0.8599],\n",
       "          [-1.3847, -0.8712, -0.2234,  1.7174,  0.3189, -0.4245,  0.3057,\n",
       "           -0.7746, -1.5576,  0.9956, -0.8798, -0.6011, -1.2742,  2.1228,\n",
       "           -1.2347, -0.4879, -0.9138, -0.6581,  0.0780,  0.5258, -0.4880,\n",
       "            1.1914, -0.8140, -0.7360, -1.4032,  0.0360, -0.0635,  0.6756,\n",
       "           -0.0978,  1.8446, -1.1845,  1.3835],\n",
       "          [ 1.4451,  0.8564,  2.2181,  0.5232,  0.3466, -0.1973, -1.0546,\n",
       "            1.2780, -0.1722,  0.5238,  0.0566,  0.4263,  0.5750, -0.6417,\n",
       "           -2.2064, -0.7508,  0.0109, -0.3387, -1.3407, -0.5854,  0.5362,\n",
       "            0.5246,  1.1412,  0.0516,  0.7440, -0.4816, -1.0495,  0.6039,\n",
       "           -1.7223, -0.8278,  1.3347,  0.4835]]]))"
      ]
     },
     "execution_count": 137,
     "metadata": {},
     "output_type": "execute_result"
    }
   ],
   "source": [
    "manual_seed(42)\n",
    "x = randn(batch, seqlen, d_model)\n",
    "W_Q = randn(d_model, d_model)\n",
    "W_K = randn(d_model, d_model)\n",
    "W_V = randn(d_model, d_model)\n",
    "W_O = randn(d_model, d_model)\n",
    "x.shape, x"
   ]
  },
  {
   "cell_type": "code",
   "execution_count": 138,
   "id": "f99ec3e0",
   "metadata": {},
   "outputs": [
    {
     "data": {
      "text/plain": [
       "(torch.Size([1, 4, 3, 8]), torch.Size([1, 4, 3, 8]), torch.Size([1, 4, 3, 8]))"
      ]
     },
     "execution_count": 138,
     "metadata": {},
     "output_type": "execute_result"
    }
   ],
   "source": [
    "q = (x.__matmul__(W_Q)).view(batch, seqlen, heads, d_head).transpose(1, 2)\n",
    "k = (x.__matmul__(W_K)).view(batch, seqlen, heads, d_head).transpose(1, 2)\n",
    "v = (x.__matmul__(W_V)).view(batch, seqlen, heads, d_head).transpose(1, 2)\n",
    "\n",
    "q.shape, k.shape, v.shape"
   ]
  },
  {
   "cell_type": "code",
   "execution_count": 139,
   "id": "0529ea2e",
   "metadata": {},
   "outputs": [
    {
     "data": {
      "text/plain": [
       "torch.Size([1, 4, 3, 3])"
      ]
     },
     "execution_count": 139,
     "metadata": {},
     "output_type": "execute_result"
    }
   ],
   "source": [
    "attn_scores = q.__matmul__(transpose(k, -2, -1))\n",
    "attn_scores.shape"
   ]
  },
  {
   "cell_type": "code",
   "execution_count": 140,
   "id": "8c3c15ee",
   "metadata": {},
   "outputs": [
    {
     "data": {
      "text/plain": [
       "torch.Size([1, 4, 3, 3])"
      ]
     },
     "execution_count": 140,
     "metadata": {},
     "output_type": "execute_result"
    }
   ],
   "source": [
    "attn_weights = softmax(attn_scores / d_head ** 0.5, dim=-1)\n",
    "attn_weights.shape"
   ]
  },
  {
   "cell_type": "code",
   "execution_count": 141,
   "id": "795d1aa8",
   "metadata": {},
   "outputs": [
    {
     "data": {
      "text/plain": [
       "torch.Size([1, 4, 3, 8])"
      ]
     },
     "execution_count": 141,
     "metadata": {},
     "output_type": "execute_result"
    }
   ],
   "source": [
    "attended_vals = attn_weights.__matmul__(v)\n",
    "attended_vals.shape"
   ]
  },
  {
   "cell_type": "code",
   "execution_count": 142,
   "id": "a7da1ad7",
   "metadata": {},
   "outputs": [
    {
     "data": {
      "text/plain": [
       "torch.Size([1, 3, 32])"
      ]
     },
     "execution_count": 142,
     "metadata": {},
     "output_type": "execute_result"
    }
   ],
   "source": [
    "output_heads_combined = attended_vals.transpose(1, 2).contiguous().view(batch, seqlen, d_model)\n",
    "output_heads_combined.shape"
   ]
  },
  {
   "cell_type": "code",
   "execution_count": 143,
   "id": "8e777c43",
   "metadata": {},
   "outputs": [
    {
     "data": {
      "text/plain": [
       "torch.Size([1, 3, 32])"
      ]
     },
     "execution_count": 143,
     "metadata": {},
     "output_type": "execute_result"
    }
   ],
   "source": [
    "output_proj = output_heads_combined.__matmul__(W_O)\n",
    "output_proj.shape"
   ]
  },
  {
   "cell_type": "markdown",
   "id": "84232451",
   "metadata": {},
   "source": [
    "---"
   ]
  },
  {
   "cell_type": "code",
   "execution_count": 144,
   "id": "0e1e4d32",
   "metadata": {},
   "outputs": [
    {
     "data": {
      "text/plain": [
       "torch.Size([32, 32])"
      ]
     },
     "execution_count": 144,
     "metadata": {},
     "output_type": "execute_result"
    }
   ],
   "source": [
    "W_QK = W_Q.__matmul__(transpose(W_K, 0, 1))\n",
    "W_QK.shape"
   ]
  },
  {
   "cell_type": "code",
   "execution_count": 145,
   "id": "0cedbf59",
   "metadata": {},
   "outputs": [
    {
     "data": {
      "text/plain": [
       "torch.Size([32, 32])"
      ]
     },
     "execution_count": 145,
     "metadata": {},
     "output_type": "execute_result"
    }
   ],
   "source": [
    "W_OV = W_V.__matmul__(W_O)\n",
    "W_OV.shape"
   ]
  },
  {
   "cell_type": "code",
   "execution_count": 146,
   "id": "152b6807",
   "metadata": {},
   "outputs": [
    {
     "data": {
      "text/plain": [
       "tensor([[-0.1637, -1.2390, -1.0557,  ..., -0.3666, -1.3768, -0.6575],\n",
       "        [ 1.8197, -0.5205,  1.4799,  ...,  0.0713, -0.8059, -0.3507],\n",
       "        [ 1.1280,  0.0259, -0.1495,  ...,  0.7496, -1.2053,  1.4265]])"
      ]
     },
     "execution_count": 146,
     "metadata": {},
     "output_type": "execute_result"
    }
   ],
   "source": [
    "a = randn(3, 512)\n",
    "a"
   ]
  },
  {
   "cell_type": "code",
   "execution_count": 147,
   "id": "7a943151",
   "metadata": {},
   "outputs": [
    {
     "data": {
      "text/plain": [
       "torch.Size([3, 64])"
      ]
     },
     "execution_count": 147,
     "metadata": {},
     "output_type": "execute_result"
    }
   ],
   "source": [
    "Q_ = a @ randn(512, 64)\n",
    "Q_.shape"
   ]
  },
  {
   "cell_type": "code",
   "execution_count": null,
   "id": "6811cba0",
   "metadata": {},
   "outputs": [],
   "source": [
    "# some sample stuff\n",
    "attn_w = randn(3, 3)"
   ]
  }
 ],
 "metadata": {
  "kernelspec": {
   "display_name": "research",
   "language": "python",
   "name": "python3"
  },
  "language_info": {
   "codemirror_mode": {
    "name": "ipython",
    "version": 3
   },
   "file_extension": ".py",
   "mimetype": "text/x-python",
   "name": "python",
   "nbconvert_exporter": "python",
   "pygments_lexer": "ipython3",
   "version": "3.12.9"
  }
 },
 "nbformat": 4,
 "nbformat_minor": 5
}
